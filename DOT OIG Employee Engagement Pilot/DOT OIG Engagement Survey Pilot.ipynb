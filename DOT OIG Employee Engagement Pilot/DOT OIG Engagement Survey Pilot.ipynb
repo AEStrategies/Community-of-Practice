{
 "cells": [
  {
   "cell_type": "markdown",
   "metadata": {},
   "source": [
    "# Collaborative coding environment for AE Strategies Data Analytics Community of Practice\n",
    "\n",
    "## First effort: DOT OIG Pilot Survey\n",
    "\n",
    "### Introduction\n",
    "\n",
    "#### Set up Python environment"
   ]
  },
  {
   "cell_type": "code",
   "execution_count": 8,
   "metadata": {},
   "outputs": [
    {
     "data": {
      "text/plain": [
       "(112, 227)"
      ]
     },
     "execution_count": 8,
     "metadata": {},
     "output_type": "execute_result"
    }
   ],
   "source": [
    "\"\"\"\n",
    "APR 2022\n",
    "\n",
    "@author: KevinAagaard\n",
    "\"\"\"\n",
    "\n",
    "import pandas as pd\n",
    "\n",
    "\n",
    "\"\"\"\n",
    "Read in and manipulate data\n",
    "\"\"\"\n",
    "data = pd.read_csv(\"Engagement Survey Pilot _Cleaned for CoP.csv\")\n",
    "\n",
    "# View Data\n",
    "data.head()\n",
    "data.describe()\n",
    "data.shape\n",
    "\n",
    "# # Rename columns\n",
    "# data = data.rename(columns={\"\":\"\"})\n",
    "\n",
    "# # Transform the data frame from wide to long\n",
    "# data_melt = pd.melt(data,\n",
    "#                     id_vars=[],\n",
    "#                     var_name = '',\n",
    "#                     value_name = '')\n",
    "\n",
    "\n",
    "\n"
   ]
  },
  {
   "cell_type": "code",
   "execution_count": null,
   "metadata": {},
   "outputs": [],
   "source": []
  },
  {
   "cell_type": "code",
   "execution_count": null,
   "metadata": {},
   "outputs": [],
   "source": []
  }
 ],
 "metadata": {
  "kernelspec": {
   "display_name": "Python 3",
   "language": "python",
   "name": "python3"
  },
  "language_info": {
   "codemirror_mode": {
    "name": "ipython",
    "version": 3
   },
   "file_extension": ".py",
   "mimetype": "text/x-python",
   "name": "python",
   "nbconvert_exporter": "python",
   "pygments_lexer": "ipython3",
   "version": "3.8.5"
  }
 },
 "nbformat": 4,
 "nbformat_minor": 2
}
