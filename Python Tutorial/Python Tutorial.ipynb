{
 "cells": [
  {
   "cell_type": "markdown",
   "id": "34a1a339",
   "metadata": {},
   "source": [
    "### Basic Python"
   ]
  },
  {
   "cell_type": "markdown",
   "id": "c2ba950d",
   "metadata": {},
   "source": [
    "#### Numbers, words, math"
   ]
  },
  {
   "cell_type": "code",
   "execution_count": 1,
   "id": "8b6ce802",
   "metadata": {
    "scrolled": true
   },
   "outputs": [
    {
     "data": {
      "text/plain": [
       "123"
      ]
     },
     "execution_count": 1,
     "metadata": {},
     "output_type": "execute_result"
    }
   ],
   "source": [
    "123"
   ]
  },
  {
   "cell_type": "code",
   "execution_count": 7,
   "id": "bc23c15a",
   "metadata": {
    "scrolled": false
   },
   "outputs": [
    {
     "data": {
      "text/plain": [
       "(1, 2, 3)"
      ]
     },
     "execution_count": 7,
     "metadata": {},
     "output_type": "execute_result"
    }
   ],
   "source": [
    "1,2,3"
   ]
  },
  {
   "cell_type": "code",
   "execution_count": 8,
   "id": "e74dcba3",
   "metadata": {
    "scrolled": true
   },
   "outputs": [
    {
     "data": {
      "text/plain": [
       "3"
      ]
     },
     "execution_count": 8,
     "metadata": {},
     "output_type": "execute_result"
    }
   ],
   "source": [
    "1+2"
   ]
  },
  {
   "cell_type": "code",
   "execution_count": 9,
   "id": "9dc30149",
   "metadata": {
    "scrolled": true
   },
   "outputs": [
    {
     "ename": "NameError",
     "evalue": "name 'hello' is not defined",
     "output_type": "error",
     "traceback": [
      "\u001b[1;31m---------------------------------------------------------------------------\u001b[0m",
      "\u001b[1;31mNameError\u001b[0m                                 Traceback (most recent call last)",
      "\u001b[1;32mC:\\Users\\CARLBA~1\\AppData\\Local\\Temp/ipykernel_17448/3305111549.py\u001b[0m in \u001b[0;36m<module>\u001b[1;34m\u001b[0m\n\u001b[1;32m----> 1\u001b[1;33m \u001b[0mhello\u001b[0m\u001b[1;33m\u001b[0m\u001b[1;33m\u001b[0m\u001b[0m\n\u001b[0m",
      "\u001b[1;31mNameError\u001b[0m: name 'hello' is not defined"
     ]
    }
   ],
   "source": [
    "hello"
   ]
  },
  {
   "cell_type": "code",
   "execution_count": 10,
   "id": "b0a8ed6d",
   "metadata": {},
   "outputs": [
    {
     "data": {
      "text/plain": [
       "'hello'"
      ]
     },
     "execution_count": 10,
     "metadata": {},
     "output_type": "execute_result"
    }
   ],
   "source": [
    "\"hello\""
   ]
  },
  {
   "cell_type": "code",
   "execution_count": 11,
   "id": "a6564f64",
   "metadata": {},
   "outputs": [
    {
     "data": {
      "text/plain": [
       "'hello'"
      ]
     },
     "execution_count": 11,
     "metadata": {},
     "output_type": "execute_result"
    }
   ],
   "source": [
    "'hello'"
   ]
  },
  {
   "cell_type": "code",
   "execution_count": 12,
   "id": "5b2f7643",
   "metadata": {},
   "outputs": [
    {
     "ename": "NameError",
     "evalue": "name 'hello' is not defined",
     "output_type": "error",
     "traceback": [
      "\u001b[1;31m---------------------------------------------------------------------------\u001b[0m",
      "\u001b[1;31mNameError\u001b[0m                                 Traceback (most recent call last)",
      "\u001b[1;32mC:\\Users\\CARLBA~1\\AppData\\Local\\Temp/ipykernel_17448/3936606730.py\u001b[0m in \u001b[0;36m<module>\u001b[1;34m\u001b[0m\n\u001b[1;32m----> 1\u001b[1;33m \u001b[0mprint\u001b[0m\u001b[1;33m(\u001b[0m\u001b[0mhello\u001b[0m\u001b[1;33m)\u001b[0m\u001b[1;33m\u001b[0m\u001b[1;33m\u001b[0m\u001b[0m\n\u001b[0m",
      "\u001b[1;31mNameError\u001b[0m: name 'hello' is not defined"
     ]
    }
   ],
   "source": [
    "print(hello)"
   ]
  },
  {
   "cell_type": "code",
   "execution_count": 14,
   "id": "3f85e08a",
   "metadata": {},
   "outputs": [
    {
     "name": "stdout",
     "output_type": "stream",
     "text": [
      "hello world\n"
     ]
    }
   ],
   "source": [
    "print('hello, world')"
   ]
  },
  {
   "cell_type": "code",
   "execution_count": 15,
   "id": "860ecf8e",
   "metadata": {},
   "outputs": [
    {
     "name": "stdout",
     "output_type": "stream",
     "text": [
      "hello, world\n"
     ]
    }
   ],
   "source": [
    "print(\"hello\", 'world')"
   ]
  },
  {
   "cell_type": "code",
   "execution_count": 16,
   "id": "f3362523",
   "metadata": {},
   "outputs": [
    {
     "name": "stdout",
     "output_type": "stream",
     "text": [
      "it's got an apostrophe\n",
      "it's got an apostrophe\n"
     ]
    }
   ],
   "source": [
    "print(\"it's got an apostrophe\")\n",
    "print('it\\'s got an apostrophe')"
   ]
  },
  {
   "cell_type": "code",
   "execution_count": 18,
   "id": "121e4412",
   "metadata": {},
   "outputs": [
    {
     "ename": "TypeError",
     "evalue": "can only concatenate str (not \"int\") to str",
     "output_type": "error",
     "traceback": [
      "\u001b[1;31m---------------------------------------------------------------------------\u001b[0m",
      "\u001b[1;31mTypeError\u001b[0m                                 Traceback (most recent call last)",
      "\u001b[1;32mC:\\Users\\CARLBA~1\\AppData\\Local\\Temp/ipykernel_17448/1984781982.py\u001b[0m in \u001b[0;36m<module>\u001b[1;34m\u001b[0m\n\u001b[1;32m----> 1\u001b[1;33m \u001b[1;34m'hello'\u001b[0m \u001b[1;33m+\u001b[0m \u001b[1;36m3\u001b[0m\u001b[1;33m\u001b[0m\u001b[1;33m\u001b[0m\u001b[0m\n\u001b[0m",
      "\u001b[1;31mTypeError\u001b[0m: can only concatenate str (not \"int\") to str"
     ]
    }
   ],
   "source": [
    "'hello' + 3"
   ]
  },
  {
   "cell_type": "code",
   "execution_count": 19,
   "id": "c0c64dc4",
   "metadata": {},
   "outputs": [
    {
     "data": {
      "text/plain": [
       "'hello3'"
      ]
     },
     "execution_count": 19,
     "metadata": {},
     "output_type": "execute_result"
    }
   ],
   "source": [
    "'hello' + '3'"
   ]
  },
  {
   "cell_type": "code",
   "execution_count": 20,
   "id": "f4efcb7b",
   "metadata": {},
   "outputs": [
    {
     "data": {
      "text/plain": [
       "'hellohellohello'"
      ]
     },
     "execution_count": 20,
     "metadata": {},
     "output_type": "execute_result"
    }
   ],
   "source": [
    "'hello' * 3"
   ]
  },
  {
   "cell_type": "code",
   "execution_count": 21,
   "id": "a1b643e7",
   "metadata": {
    "scrolled": true
   },
   "outputs": [
    {
     "ename": "TypeError",
     "evalue": "can't multiply sequence by non-int of type 'str'",
     "output_type": "error",
     "traceback": [
      "\u001b[1;31m---------------------------------------------------------------------------\u001b[0m",
      "\u001b[1;31mTypeError\u001b[0m                                 Traceback (most recent call last)",
      "\u001b[1;32mC:\\Users\\CARLBA~1\\AppData\\Local\\Temp/ipykernel_17448/517725602.py\u001b[0m in \u001b[0;36m<module>\u001b[1;34m\u001b[0m\n\u001b[1;32m----> 1\u001b[1;33m \u001b[1;34m'hello'\u001b[0m \u001b[1;33m*\u001b[0m \u001b[1;34m'3'\u001b[0m\u001b[1;33m\u001b[0m\u001b[1;33m\u001b[0m\u001b[0m\n\u001b[0m",
      "\u001b[1;31mTypeError\u001b[0m: can't multiply sequence by non-int of type 'str'"
     ]
    }
   ],
   "source": [
    "'hello' * '3'"
   ]
  },
  {
   "cell_type": "code",
   "execution_count": 27,
   "id": "ebc54c40",
   "metadata": {
    "scrolled": true
   },
   "outputs": [
    {
     "name": "stdout",
     "output_type": "stream",
     "text": [
      "3+6: 9\n",
      "3-6: -3\n",
      "3*6: 18\n",
      "3/6: 0.5\n"
     ]
    }
   ],
   "source": [
    "print('3+6:', 3+6)\n",
    "print('3-6:', 3-6)\n",
    "print('3*6:', 3*6)\n",
    "print('3/6:', 3/6)"
   ]
  },
  {
   "cell_type": "code",
   "execution_count": 28,
   "id": "c189a3d8",
   "metadata": {},
   "outputs": [
    {
     "data": {
      "text/plain": [
       "7"
      ]
     },
     "execution_count": 28,
     "metadata": {},
     "output_type": "execute_result"
    }
   ],
   "source": [
    "1 + 2 * 3"
   ]
  },
  {
   "cell_type": "markdown",
   "id": "8eff731a",
   "metadata": {},
   "source": [
    "#### Comments"
   ]
  },
  {
   "cell_type": "code",
   "execution_count": 5,
   "id": "dadfab0f",
   "metadata": {},
   "outputs": [
    {
     "ename": "SyntaxError",
     "evalue": "invalid syntax (Temp/ipykernel_17448/1748522047.py, line 3)",
     "output_type": "error",
     "traceback": [
      "\u001b[1;36m  File \u001b[1;32m\"C:\\Users\\CARLBA~1\\AppData\\Local\\Temp/ipykernel_17448/1748522047.py\"\u001b[1;36m, line \u001b[1;32m3\u001b[0m\n\u001b[1;33m    this is not a comment, the interpreter is attempting to compile this english sentence. Unsuccessfully.\u001b[0m\n\u001b[1;37m                  ^\u001b[0m\n\u001b[1;31mSyntaxError\u001b[0m\u001b[1;31m:\u001b[0m invalid syntax\n"
     ]
    }
   ],
   "source": [
    "# this is a comment, it has a hashtag\n",
    "\n",
    "this is not a comment, the interpreter is attempting to compile this english sentence. Unsuccessfully."
   ]
  },
  {
   "cell_type": "markdown",
   "id": "2123f611",
   "metadata": {},
   "source": [
    "#### Python types"
   ]
  },
  {
   "cell_type": "code",
   "execution_count": 71,
   "id": "90b92723",
   "metadata": {},
   "outputs": [
    {
     "name": "stdout",
     "output_type": "stream",
     "text": [
      "<class 'int'>\n",
      "<class 'str'>\n",
      "<class 'int'>\n",
      "<class 'float'>\n",
      "<class 'float'>\n",
      "<class 'tuple'>\n",
      "<class 'list'>\n",
      "<class 'dict'>\n",
      "<class 'bool'>\n",
      "<class 'NoneType'>\n"
     ]
    }
   ],
   "source": [
    "print(type(3)) # int\n",
    "print(type(\"hello\")) # str\n",
    "print(type(3+3)) # int\n",
    "print(type(3/6)) # float\n",
    "print(type(4.0)) # float\n",
    "print(type((1,2,3))) # tuple\n",
    "print(type([1,2,3])) # list\n",
    "print(type({'a': 1, 'b': 2, 'c': 3})) # dict\n",
    "print(type(True)) # bool\n",
    "print(type(None)) # NoneType"
   ]
  },
  {
   "cell_type": "markdown",
   "id": "387ea449",
   "metadata": {},
   "source": [
    "#### Variables"
   ]
  },
  {
   "cell_type": "code",
   "execution_count": 49,
   "id": "6ea37dcb",
   "metadata": {},
   "outputs": [
    {
     "name": "stdout",
     "output_type": "stream",
     "text": [
      "a is 1 \n",
      "b is 2\n"
     ]
    }
   ],
   "source": [
    "# Create two variables, a and b\n",
    "a = 1\n",
    "b = 2\n",
    "print('a is', a, '\\nb is', b)"
   ]
  },
  {
   "cell_type": "code",
   "execution_count": 53,
   "id": "3d273b14",
   "metadata": {},
   "outputs": [
    {
     "name": "stdout",
     "output_type": "stream",
     "text": [
      "a is 2\n",
      "b is 2\n"
     ]
    }
   ],
   "source": [
    "# Now set a equal to b\n",
    "a = b\n",
    "print(f'a is {a}\\nb is {b}')"
   ]
  },
  {
   "cell_type": "code",
   "execution_count": 57,
   "id": "6b386cea",
   "metadata": {},
   "outputs": [
    {
     "name": "stdout",
     "output_type": "stream",
     "text": [
      "thing: 1\n",
      "Thing: 2\n",
      "THING: 3\n"
     ]
    }
   ],
   "source": [
    "# Variables are case sensitive\n",
    "thing = 1\n",
    "Thing = 2\n",
    "THING = 3\n",
    "print(f'thing: {thing}')\n",
    "print(f'Thing: {Thing}')\n",
    "print(f'THING: {THING}')"
   ]
  },
  {
   "cell_type": "code",
   "execution_count": 58,
   "id": "6016100b",
   "metadata": {},
   "outputs": [
    {
     "name": "stdout",
     "output_type": "stream",
     "text": [
      "\n",
      "Here is a list of the Python keywords.  Enter any keyword to get more help.\n",
      "\n",
      "False               break               for                 not\n",
      "None                class               from                or\n",
      "True                continue            global              pass\n",
      "__peg_parser__      def                 if                  raise\n",
      "and                 del                 import              return\n",
      "as                  elif                in                  try\n",
      "assert              else                is                  while\n",
      "async               except              lambda              with\n",
      "await               finally             nonlocal            yield\n",
      "\n"
     ]
    }
   ],
   "source": [
    "# Invalid variable names\n",
    "help('keywords')"
   ]
  },
  {
   "cell_type": "code",
   "execution_count": 60,
   "id": "2a9fb469",
   "metadata": {},
   "outputs": [
    {
     "ename": "SyntaxError",
     "evalue": "cannot assign to False (Temp/ipykernel_17448/1429262388.py, line 1)",
     "output_type": "error",
     "traceback": [
      "\u001b[1;36m  File \u001b[1;32m\"C:\\Users\\CARLBA~1\\AppData\\Local\\Temp/ipykernel_17448/1429262388.py\"\u001b[1;36m, line \u001b[1;32m1\u001b[0m\n\u001b[1;33m    False = 1\u001b[0m\n\u001b[1;37m    ^\u001b[0m\n\u001b[1;31mSyntaxError\u001b[0m\u001b[1;31m:\u001b[0m cannot assign to False\n"
     ]
    }
   ],
   "source": [
    "False = 1"
   ]
  },
  {
   "cell_type": "code",
   "execution_count": 63,
   "id": "10b60bf3",
   "metadata": {},
   "outputs": [
    {
     "name": "stdout",
     "output_type": "stream",
     "text": [
      "a before: 1\n",
      "a after adding 1: 2\n",
      "a after adding another 1: 3\n"
     ]
    }
   ],
   "source": [
    "# The right side of the = is executed before the left\n",
    "a = 1\n",
    "print(f'a before: {a}')\n",
    "\n",
    "a = a + 1\n",
    "print(f'a after adding 1: {a}')\n",
    "\n",
    "a += 1\n",
    "print(f'a after adding another 1: {a}')"
   ]
  },
  {
   "cell_type": "markdown",
   "id": "7a552a97",
   "metadata": {},
   "source": [
    "#### Booleans, comparisons, and None"
   ]
  },
  {
   "cell_type": "code",
   "execution_count": 66,
   "id": "0a19d22e",
   "metadata": {},
   "outputs": [
    {
     "data": {
      "text/plain": [
       "(True, False)"
      ]
     },
     "execution_count": 66,
     "metadata": {},
     "output_type": "execute_result"
    }
   ],
   "source": [
    "True, False"
   ]
  },
  {
   "cell_type": "code",
   "execution_count": 70,
   "id": "b62e2158",
   "metadata": {},
   "outputs": [
    {
     "name": "stdout",
     "output_type": "stream",
     "text": [
      "True\n",
      "False\n"
     ]
    }
   ],
   "source": [
    "a = 1\n",
    "print(a == 1)\n",
    "print(a == 2)"
   ]
  },
  {
   "cell_type": "markdown",
   "id": "7381fef8",
   "metadata": {},
   "source": [
    "##### Comparison operator table\n",
    "| Usage     | Description                       | True examples         |\n",
    "|-----------|-----------------------------------|-----------------------|\n",
    "| `a == b`  | a is equal to b                   | `1 == 1`              |\n",
    "| `a != b`  | a is not equal to b               | `1 != 2`              |\n",
    "| `a > b`   | a is greater than b               | `2 > 1`               |\n",
    "| `a >= b`  | a is greater than or equal to b   | `2 >= 1`, `1 >= 1`    |\n",
    "| `a < b`   | a is less than b                  | `1 < 2`               |\n",
    "| `a <= b`  | a is less than or equal to b      | `1 <= 2`, `1 <= 1`    |"
   ]
  },
  {
   "cell_type": "markdown",
   "id": "dd34b9da",
   "metadata": {},
   "source": [
    "##### multiple comparison table\n",
    "| Usage     | Description                               | True example                      |\n",
    "|-----------|-------------------------------------------|-----------------------------------|\n",
    "| `a and b` | a is True and b is True                   | `1 == 1 and 2 == 2`               |\n",
    "| `a or b`  | a is True, b is True or they're both True | `False or 1 == 1`, `True or True` |"
   ]
  },
  {
   "cell_type": "code",
   "execution_count": 73,
   "id": "c15544be",
   "metadata": {},
   "outputs": [],
   "source": [
    "foo = None\n",
    "foo"
   ]
  },
  {
   "cell_type": "code",
   "execution_count": 74,
   "id": "363e3629",
   "metadata": {},
   "outputs": [
    {
     "name": "stdout",
     "output_type": "stream",
     "text": [
      "None\n"
     ]
    }
   ],
   "source": [
    "print(foo)"
   ]
  },
  {
   "cell_type": "code",
   "execution_count": 75,
   "id": "ed434645",
   "metadata": {},
   "outputs": [
    {
     "ename": "TypeError",
     "evalue": "unsupported operand type(s) for +: 'NoneType' and 'int'",
     "output_type": "error",
     "traceback": [
      "\u001b[1;31m---------------------------------------------------------------------------\u001b[0m",
      "\u001b[1;31mTypeError\u001b[0m                                 Traceback (most recent call last)",
      "\u001b[1;32mC:\\Users\\CARLBA~1\\AppData\\Local\\Temp/ipykernel_17448/2710311011.py\u001b[0m in \u001b[0;36m<module>\u001b[1;34m\u001b[0m\n\u001b[1;32m----> 1\u001b[1;33m \u001b[0mfoo\u001b[0m \u001b[1;33m+\u001b[0m \u001b[1;36m1\u001b[0m\u001b[1;33m\u001b[0m\u001b[1;33m\u001b[0m\u001b[0m\n\u001b[0m",
      "\u001b[1;31mTypeError\u001b[0m: unsupported operand type(s) for +: 'NoneType' and 'int'"
     ]
    }
   ],
   "source": [
    "foo + 1"
   ]
  },
  {
   "cell_type": "markdown",
   "id": "b07d8df2",
   "metadata": {},
   "source": [
    "#### Functions"
   ]
  },
  {
   "cell_type": "code",
   "execution_count": 83,
   "id": "4f29e286",
   "metadata": {},
   "outputs": [
    {
     "name": "stdout",
     "output_type": "stream",
     "text": [
      "hello\n",
      "None\n"
     ]
    }
   ],
   "source": [
    "output = print(\"hello\")\n",
    "print(output)"
   ]
  },
  {
   "cell_type": "code",
   "execution_count": 85,
   "id": "bd3ee03b",
   "metadata": {},
   "outputs": [
    {
     "name": "stdout",
     "output_type": "stream",
     "text": [
      "Enter some input:500\n"
     ]
    }
   ],
   "source": [
    "user_input = input(\"Enter some input:\")"
   ]
  },
  {
   "cell_type": "code",
   "execution_count": 86,
   "id": "c5b03d8e",
   "metadata": {},
   "outputs": [
    {
     "data": {
      "text/plain": [
       "'500'"
      ]
     },
     "execution_count": 86,
     "metadata": {},
     "output_type": "execute_result"
    }
   ],
   "source": [
    "user_input"
   ]
  },
  {
   "cell_type": "code",
   "execution_count": 87,
   "id": "fbe00aec",
   "metadata": {},
   "outputs": [
    {
     "ename": "TypeError",
     "evalue": "can only concatenate str (not \"int\") to str",
     "output_type": "error",
     "traceback": [
      "\u001b[1;31m---------------------------------------------------------------------------\u001b[0m",
      "\u001b[1;31mTypeError\u001b[0m                                 Traceback (most recent call last)",
      "\u001b[1;32mC:\\Users\\CARLBA~1\\AppData\\Local\\Temp/ipykernel_17448/612681190.py\u001b[0m in \u001b[0;36m<module>\u001b[1;34m\u001b[0m\n\u001b[1;32m----> 1\u001b[1;33m \u001b[0muser_input\u001b[0m \u001b[1;33m+\u001b[0m \u001b[1;36m5\u001b[0m\u001b[1;33m\u001b[0m\u001b[1;33m\u001b[0m\u001b[0m\n\u001b[0m",
      "\u001b[1;31mTypeError\u001b[0m: can only concatenate str (not \"int\") to str"
     ]
    }
   ],
   "source": [
    "user_input + 5"
   ]
  },
  {
   "cell_type": "code",
   "execution_count": 89,
   "id": "9bdef97e",
   "metadata": {},
   "outputs": [
    {
     "data": {
      "text/plain": [
       "505"
      ]
     },
     "execution_count": 89,
     "metadata": {},
     "output_type": "execute_result"
    }
   ],
   "source": [
    "int(user_input) + 5"
   ]
  },
  {
   "cell_type": "markdown",
   "id": "1f1f472d",
   "metadata": {},
   "source": [
    "#### If, else, and elif"
   ]
  },
  {
   "cell_type": "code",
   "execution_count": 92,
   "id": "cfa20e99",
   "metadata": {},
   "outputs": [],
   "source": [
    "if False:\n",
    "    print('This is true')"
   ]
  },
  {
   "cell_type": "code",
   "execution_count": 95,
   "id": "66627d7a",
   "metadata": {},
   "outputs": [
    {
     "name": "stdout",
     "output_type": "stream",
     "text": [
      "What?\n"
     ]
    }
   ],
   "source": [
    "# In python, any variable is inherently True. It is checking for existence, which will always be true.\n",
    "if \"hello\":\n",
    "    print('What?')"
   ]
  },
  {
   "cell_type": "code",
   "execution_count": 98,
   "id": "253773b4",
   "metadata": {},
   "outputs": [
    {
     "name": "stdout",
     "output_type": "stream",
     "text": [
      "It's sunny\n"
     ]
    }
   ],
   "source": [
    "is_sunny = True # booleans should start with is_\n",
    "\n",
    "if is_sunny: # What happens when we add a `not` keyword?\n",
    "    print(\"It's sunny\")\n",
    "else:\n",
    "    print(\"It's cloudy\")"
   ]
  },
  {
   "cell_type": "code",
   "execution_count": 102,
   "id": "2f70f64c",
   "metadata": {},
   "outputs": [
    {
     "name": "stdout",
     "output_type": "stream",
     "text": [
      "It's sunny\n"
     ]
    }
   ],
   "source": [
    "weather = \"sunny\"\n",
    "\n",
    "if weather == \"sunny\":\n",
    "    print(\"It's sunny\")\n",
    "elif weather == \"cloudy\":\n",
    "    print(\"It's cloudy\")\n",
    "else:\n",
    "    print(\"Weather unknown\")"
   ]
  },
  {
   "cell_type": "markdown",
   "id": "d7360eb3",
   "metadata": {},
   "source": [
    "#### Strings"
   ]
  },
  {
   "cell_type": "code",
   "execution_count": 110,
   "id": "9179161a",
   "metadata": {},
   "outputs": [
    {
     "data": {
      "text/plain": [
       "'H'"
      ]
     },
     "execution_count": 110,
     "metadata": {},
     "output_type": "execute_result"
    }
   ],
   "source": [
    "foo = \"Hello, World\"\n",
    "# ['H', 'e', 'l', 'l', 'o', ',', ' ', 'W', 'o', 'r', 'l', 'd']\n",
    "\n",
    "# Lists are zero-indexed and can use negative numbers to represent \"from the end\"\n",
    "foo[0]"
   ]
  },
  {
   "cell_type": "code",
   "execution_count": 111,
   "id": "4d541649",
   "metadata": {},
   "outputs": [
    {
     "data": {
      "text/plain": [
       "'d'"
      ]
     },
     "execution_count": 111,
     "metadata": {},
     "output_type": "execute_result"
    }
   ],
   "source": [
    "foo[-1]"
   ]
  },
  {
   "cell_type": "code",
   "execution_count": 112,
   "id": "6c744451",
   "metadata": {},
   "outputs": [
    {
     "data": {
      "text/plain": [
       "'llo'"
      ]
     },
     "execution_count": 112,
     "metadata": {},
     "output_type": "execute_result"
    }
   ],
   "source": [
    "# Slicing. Remember zero-indexed and it is only left-inclusive\n",
    "foo[2:5]"
   ]
  },
  {
   "cell_type": "code",
   "execution_count": 113,
   "id": "c88e4387",
   "metadata": {},
   "outputs": [
    {
     "data": {
      "text/plain": [
       "'llo, World'"
      ]
     },
     "execution_count": 113,
     "metadata": {},
     "output_type": "execute_result"
    }
   ],
   "source": [
    "foo[2:]"
   ]
  },
  {
   "cell_type": "code",
   "execution_count": 114,
   "id": "141f0058",
   "metadata": {},
   "outputs": [
    {
     "data": {
      "text/plain": [
       "'Hello'"
      ]
     },
     "execution_count": 114,
     "metadata": {},
     "output_type": "execute_result"
    }
   ],
   "source": [
    "foo[:5]"
   ]
  },
  {
   "cell_type": "code",
   "execution_count": 122,
   "id": "4d05cb85",
   "metadata": {},
   "outputs": [
    {
     "name": "stdout",
     "output_type": "stream",
     "text": [
      "HELLO, WORLD\n",
      "hello, world\n",
      "True\n",
      "Hello, There\n",
      "hello\n",
      "2\n",
      "4\n",
      "['Hell', ', W', 'rld']\n"
     ]
    }
   ],
   "source": [
    "# String methods\n",
    "print(foo.upper()) # HELLO, WORLD\n",
    "print(foo.lower()) # hello, world\n",
    "print(foo.startswith('Hello')) # True (this is case sensitive)\n",
    "print(foo.replace('World', 'There')) # Hello, There\n",
    "print('   hello   '.strip()) # 'hello'\n",
    "print(foo.count('o')) # 2\n",
    "print(foo.index('o')) # 4 (the first index of the character)\n",
    "print(foo.split('o')) # ['Hell', ', W', 'rld'] (the opposite of split() is join())"
   ]
  },
  {
   "cell_type": "code",
   "execution_count": 123,
   "id": "a734b23d",
   "metadata": {},
   "outputs": [
    {
     "data": {
      "text/plain": [
       "True"
      ]
     },
     "execution_count": 123,
     "metadata": {},
     "output_type": "execute_result"
    }
   ],
   "source": [
    "\"Hello\" in foo"
   ]
  },
  {
   "cell_type": "code",
   "execution_count": 124,
   "id": "c617b538",
   "metadata": {},
   "outputs": [
    {
     "data": {
      "text/plain": [
       "12"
      ]
     },
     "execution_count": 124,
     "metadata": {},
     "output_type": "execute_result"
    }
   ],
   "source": [
    "# This is b/c strings are lists. len() can be called on list-like objects\n",
    "len(foo)"
   ]
  },
  {
   "cell_type": "markdown",
   "id": "9c3aafba",
   "metadata": {},
   "source": [
    "#### Lists and Tuples"
   ]
  },
  {
   "cell_type": "code",
   "execution_count": 153,
   "id": "616785a4",
   "metadata": {},
   "outputs": [
    {
     "data": {
      "text/plain": [
       "[1, 2, 3, 4, 5]"
      ]
     },
     "execution_count": 153,
     "metadata": {},
     "output_type": "execute_result"
    }
   ],
   "source": [
    "foo = [1, 2, 3, 4, 5]\n",
    "foo"
   ]
  },
  {
   "cell_type": "code",
   "execution_count": 128,
   "id": "575c0750",
   "metadata": {},
   "outputs": [
    {
     "data": {
      "text/plain": [
       "[1, 2, 3, 4, 5, 1, 2, 3, 4, 5, 1, 2, 3, 4, 5, 1, 2, 3, 4, 5, 1, 2, 3, 4, 5]"
      ]
     },
     "execution_count": 128,
     "metadata": {},
     "output_type": "execute_result"
    }
   ],
   "source": [
    "foo * 5"
   ]
  },
  {
   "cell_type": "code",
   "execution_count": 131,
   "id": "7f83758a",
   "metadata": {},
   "outputs": [
    {
     "data": {
      "text/plain": [
       "2"
      ]
     },
     "execution_count": 131,
     "metadata": {},
     "output_type": "execute_result"
    }
   ],
   "source": [
    "foo[1]"
   ]
  },
  {
   "cell_type": "code",
   "execution_count": 133,
   "id": "42198004",
   "metadata": {},
   "outputs": [
    {
     "data": {
      "text/plain": [
       "False"
      ]
     },
     "execution_count": 133,
     "metadata": {},
     "output_type": "execute_result"
    }
   ],
   "source": [
    "7 in foo"
   ]
  },
  {
   "cell_type": "code",
   "execution_count": 154,
   "id": "66945913",
   "metadata": {},
   "outputs": [
    {
     "data": {
      "text/plain": [
       "[2, 3, 4, 5]"
      ]
     },
     "execution_count": 154,
     "metadata": {},
     "output_type": "execute_result"
    }
   ],
   "source": [
    "foo.remove(1) # THIS IS DONE IN PLACE!\n",
    "foo"
   ]
  },
  {
   "cell_type": "code",
   "execution_count": 155,
   "id": "c3344de1",
   "metadata": {},
   "outputs": [
    {
     "data": {
      "text/plain": [
       "[2, 3, 4, 5, 6]"
      ]
     },
     "execution_count": 155,
     "metadata": {},
     "output_type": "execute_result"
    }
   ],
   "source": [
    "foo.append(6) # THIS IS DONE IN PLACE!\n",
    "foo"
   ]
  },
  {
   "cell_type": "code",
   "execution_count": 142,
   "id": "8f3a6f06",
   "metadata": {},
   "outputs": [
    {
     "data": {
      "text/plain": [
       "[4, 6, 8, 10, 12]"
      ]
     },
     "execution_count": 142,
     "metadata": {},
     "output_type": "execute_result"
    }
   ],
   "source": [
    "# List comprehension is advanced stuff, we'll learn about loops soon\n",
    "[number * 2 for number in foo]"
   ]
  },
  {
   "cell_type": "code",
   "execution_count": 143,
   "id": "5af0fbf2",
   "metadata": {},
   "outputs": [
    {
     "data": {
      "text/plain": [
       "[4, 6, 8, 10, 12]"
      ]
     },
     "execution_count": 143,
     "metadata": {},
     "output_type": "execute_result"
    }
   ],
   "source": [
    "# same as previous line, but longer code\n",
    "double_foo = []\n",
    "for number in foo:\n",
    "    double_foo.append(number * 2)\n",
    "    \n",
    "double_foo"
   ]
  },
  {
   "cell_type": "code",
   "execution_count": 156,
   "id": "a710c15a",
   "metadata": {},
   "outputs": [
    {
     "data": {
      "text/plain": [
       "['beginning', 3, 4, 5, 6]"
      ]
     },
     "execution_count": 156,
     "metadata": {},
     "output_type": "execute_result"
    }
   ],
   "source": [
    "foo[0] = \"beginning\" # There is an equals sign, which means we are changing the variable\n",
    "foo"
   ]
  },
  {
   "cell_type": "code",
   "execution_count": 157,
   "id": "300deeda",
   "metadata": {},
   "outputs": [
    {
     "name": "stdout",
     "output_type": "stream",
     "text": [
      "['beginning', 3, 4, 5, 6, 7]\n"
     ]
    }
   ],
   "source": [
    "# Reference vs. copying\n",
    "bar = foo\n",
    "bar.append(7) # this is done in place\n",
    "print(foo) # foo changed too!"
   ]
  },
  {
   "cell_type": "code",
   "execution_count": 158,
   "id": "9d817219",
   "metadata": {},
   "outputs": [
    {
     "name": "stdout",
     "output_type": "stream",
     "text": [
      "['beginning', 3, 4, 5, 6, 7]\n",
      "['beginning', 3, 4, 5, 6, 7, 8]\n"
     ]
    }
   ],
   "source": [
    "bar = foo.copy()\n",
    "bar.append(8)\n",
    "print(foo)\n",
    "print(bar)"
   ]
  },
  {
   "cell_type": "code",
   "execution_count": 160,
   "id": "199499b2",
   "metadata": {},
   "outputs": [
    {
     "name": "stdout",
     "output_type": "stream",
     "text": [
      "True\n",
      "False\n"
     ]
    }
   ],
   "source": [
    "bar = foo\n",
    "print(foo is bar)\n",
    "\n",
    "bar = foo.copy()\n",
    "print(foo is bar)"
   ]
  },
  {
   "cell_type": "code",
   "execution_count": 163,
   "id": "00715461",
   "metadata": {},
   "outputs": [
    {
     "data": {
      "text/plain": [
       "(1, 2, 3)"
      ]
     },
     "execution_count": 163,
     "metadata": {},
     "output_type": "execute_result"
    }
   ],
   "source": [
    "tuple_foo = (1, 2, 3)\n",
    "tuple_foo"
   ]
  },
  {
   "cell_type": "code",
   "execution_count": 166,
   "id": "75cc7368",
   "metadata": {},
   "outputs": [
    {
     "ename": "TypeError",
     "evalue": "'tuple' object does not support item assignment",
     "output_type": "error",
     "traceback": [
      "\u001b[1;31m---------------------------------------------------------------------------\u001b[0m",
      "\u001b[1;31mTypeError\u001b[0m                                 Traceback (most recent call last)",
      "\u001b[1;32mC:\\Users\\CARLBA~1\\AppData\\Local\\Temp/ipykernel_17448/180199574.py\u001b[0m in \u001b[0;36m<module>\u001b[1;34m\u001b[0m\n\u001b[0;32m      1\u001b[0m \u001b[1;31m# tuples are immutable\u001b[0m\u001b[1;33m\u001b[0m\u001b[1;33m\u001b[0m\u001b[0m\n\u001b[1;32m----> 2\u001b[1;33m \u001b[0mtuple_foo\u001b[0m\u001b[1;33m[\u001b[0m\u001b[1;36m0\u001b[0m\u001b[1;33m]\u001b[0m \u001b[1;33m=\u001b[0m \u001b[1;36m0\u001b[0m\u001b[1;33m\u001b[0m\u001b[1;33m\u001b[0m\u001b[0m\n\u001b[0m\u001b[0;32m      3\u001b[0m \u001b[1;33m\u001b[0m\u001b[0m\n\u001b[0;32m      4\u001b[0m \u001b[1;31m# this doesn't work either\u001b[0m\u001b[1;33m\u001b[0m\u001b[1;33m\u001b[0m\u001b[0m\n\u001b[0;32m      5\u001b[0m \u001b[0mtuple_foo\u001b[0m\u001b[1;33m.\u001b[0m\u001b[0mappend\u001b[0m\u001b[1;33m(\u001b[0m\u001b[1;36m4\u001b[0m\u001b[1;33m)\u001b[0m\u001b[1;33m\u001b[0m\u001b[1;33m\u001b[0m\u001b[0m\n",
      "\u001b[1;31mTypeError\u001b[0m: 'tuple' object does not support item assignment"
     ]
    }
   ],
   "source": [
    "# tuples are immutable\n",
    "tuple_foo[0] = 0\n",
    "\n",
    "# this doesn't work either\n",
    "tuple_foo.append(4)"
   ]
  },
  {
   "cell_type": "code",
   "execution_count": 165,
   "id": "3c7b88a1",
   "metadata": {},
   "outputs": [
    {
     "data": {
      "text/plain": [
       "(1, 2, 3, 1, 2, 3, 1, 2, 3)"
      ]
     },
     "execution_count": 165,
     "metadata": {},
     "output_type": "execute_result"
    }
   ],
   "source": [
    "# but you can do this\n",
    "tuple_foo * 3"
   ]
  }
 ],
 "metadata": {
  "kernelspec": {
   "display_name": "Python 3 (ipykernel)",
   "language": "python",
   "name": "python3"
  },
  "language_info": {
   "codemirror_mode": {
    "name": "ipython",
    "version": 3
   },
   "file_extension": ".py",
   "mimetype": "text/x-python",
   "name": "python",
   "nbconvert_exporter": "python",
   "pygments_lexer": "ipython3",
   "version": "3.9.7"
  }
 },
 "nbformat": 4,
 "nbformat_minor": 5
}
