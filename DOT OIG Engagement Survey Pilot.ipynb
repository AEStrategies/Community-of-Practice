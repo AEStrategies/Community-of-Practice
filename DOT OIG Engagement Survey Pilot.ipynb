{
 "cells": [
  {
   "cell_type": "markdown",
   "metadata": {},
   "source": [
    "# Collaborative coding environment for AE Strategies Data Analytics Community of Practice\n",
    "\n",
    "## First effort: DOT OIG Pilot Survey\n",
    "\n",
    "### Introduction\n",
    "\n",
    "#### Set up Python environment"
   ]
  },
  {
   "cell_type": "code",
   "execution_count": 9,
   "metadata": {},
   "outputs": [
    {
     "name": "stdout",
     "output_type": "stream",
     "text": [
      "   Respondent ID OC_General_1 OC_General_2 OC_General_3 OC_General_4  \\\n",
      "0              1            4            5            5            4   \n",
      "1              2            4            5            4            4   \n",
      "2              3            5            5            5            4   \n",
      "3              4            4            4            2            2   \n",
      "4              5            4            4            4            4   \n",
      "\n",
      "  OC_General_5                                        IGforaday_1  \\\n",
      "0            3  Improve the company culture. So that everyone ...   \n",
      "1            5  I would make sure all employees are satisfied ...   \n",
      "2            5                                               none   \n",
      "3            4  I would make the company more open to hire dif...   \n",
      "4            4  I would make team building a voluntary paid me...   \n",
      "\n",
      "  SLeadEffect_1 SLeadEffect_2 SLeadEffect_3  ... ProcJustice_2 ProcJustice_3  \\\n",
      "0             4             4             4  ...             5             5   \n",
      "1             4             5             4  ...             5             5   \n",
      "2             5             5             5  ...             5             5   \n",
      "3             3             2             3  ...             2             3   \n",
      "4             4             4             4  ...             4             4   \n",
      "\n",
      "  ProcJustice_4 ProcJustice_5 Voice_3 Turnover_1  \\\n",
      "0             4             4       4          1   \n",
      "1             4             5       4          4   \n",
      "2             5             5       5          2   \n",
      "3             2             2       3          4   \n",
      "4             4             4       4          4   \n",
      "\n",
      "                             Retention_Suggestions_1 Survey_Utility_1  \\\n",
      "0  Positive Work Environment, Pay and Benefits, W...                4   \n",
      "1  policies and programs i would love to see are ...                4   \n",
      "2                                               none                3   \n",
      "3  The lack of treating every worker fairly and t...                2   \n",
      "4                raises and more on the job training                4   \n",
      "\n",
      "  Survey_Utility_2 Survey_Utility_3  \n",
      "0                4                4  \n",
      "1                4                5  \n",
      "2                3                3  \n",
      "3                2                2  \n",
      "4                4                4  \n",
      "\n",
      "[5 rows x 227 columns]\n",
      "       Respondent ID\n",
      "count     112.000000\n",
      "mean       56.500000\n",
      "std        32.475632\n",
      "min         1.000000\n",
      "25%        28.750000\n",
      "50%        56.500000\n",
      "75%        84.250000\n",
      "max       112.000000\n",
      "(112, 227)\n"
     ]
    }
   ],
   "source": [
    "\"\"\"\n",
    "APR 2022\n",
    "\n",
    "@author: KevinAagaard\n",
    "\"\"\"\n",
    "\n",
    "import pandas as pd\n",
    "\n",
    "\n",
    "\"\"\"\n",
    "Read in and manipulate data\n",
    "\"\"\"\n",
    "data = pd.read_csv(\"Engagement Survey Pilot _Cleaned for CoP.csv\")\n",
    "\n",
    "# View Data\n",
    "print(data.head())\n",
    "print(data.describe())\n",
    "print(data.shape)\n",
    "\n",
    "\n",
    "\n",
    "\n",
    "\n"
   ]
  },
  {
   "cell_type": "code",
   "execution_count": null,
   "metadata": {},
   "outputs": [],
   "source": [
    "# # Rename columns\n",
    "# data = data.rename(columns={\"old\":\"new\"})\n",
    "\n",
    "# # Transform the data frame from wide to long\n",
    "# data_melt = pd.melt(data,\n",
    "#                     id_vars=[\"column(s) you want to reshape\"],\n",
    "#                     var_name = \"name for column containing variables being reshaped\",\n",
    "#                     value_name = \"name for column containing values corresponding to variables being reshaped\")"
   ]
  },
  {
   "cell_type": "code",
   "execution_count": null,
   "metadata": {},
   "outputs": [],
   "source": []
  }
 ],
 "metadata": {
  "kernelspec": {
   "display_name": "Python 3",
   "language": "python",
   "name": "python3"
  },
  "language_info": {
   "codemirror_mode": {
    "name": "ipython",
    "version": 3
   },
   "file_extension": ".py",
   "mimetype": "text/x-python",
   "name": "python",
   "nbconvert_exporter": "python",
   "pygments_lexer": "ipython3",
   "version": "3.8.5"
  }
 },
 "nbformat": 4,
 "nbformat_minor": 2
}
